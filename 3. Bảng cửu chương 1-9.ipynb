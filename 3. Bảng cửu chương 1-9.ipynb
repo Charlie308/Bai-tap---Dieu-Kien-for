{
 "cells": [
  {
   "cell_type": "code",
   "execution_count": 11,
   "id": "1a1ebd68",
   "metadata": {},
   "outputs": [
    {
     "name": "stdout",
     "output_type": "stream",
     "text": [
      "Cửu chương 2\tCửu chương 3\tCửu chương 4\tCửu chương 5\tCửu chương 6\tCửu chương 7\tCửu chương 8\tCửu chương 9\t 2 x 2 = 4\t 3 x 2 = 6\t 4 x 2 = 8\t 5 x 2 = 10\t 6 x 2 = 12\t 7 x 2 = 14\t 8 x 2 = 16\t 9 x 2 = 18\t 2 x 3 = 6\t 3 x 3 = 9\t 4 x 3 = 12\t 5 x 3 = 15\t 6 x 3 = 18\t 7 x 3 = 21\t 8 x 3 = 24\t 9 x 3 = 27\t 2 x 4 = 8\t 3 x 4 = 12\t 4 x 4 = 16\t 5 x 4 = 20\t 6 x 4 = 24\t 7 x 4 = 28\t 8 x 4 = 32\t 9 x 4 = 36\t 2 x 5 = 10\t 3 x 5 = 15\t 4 x 5 = 20\t 5 x 5 = 25\t 6 x 5 = 30\t 7 x 5 = 35\t 8 x 5 = 40\t 9 x 5 = 45\t 2 x 6 = 12\t 3 x 6 = 18\t 4 x 6 = 24\t 5 x 6 = 30\t 6 x 6 = 36\t 7 x 6 = 42\t 8 x 6 = 48\t 9 x 6 = 54\t 2 x 7 = 14\t 3 x 7 = 21\t 4 x 7 = 28\t 5 x 7 = 35\t 6 x 7 = 42\t 7 x 7 = 49\t 8 x 7 = 56\t 9 x 7 = 63\t 2 x 8 = 16\t 3 x 8 = 24\t 4 x 8 = 32\t 5 x 8 = 40\t 6 x 8 = 48\t 7 x 8 = 56\t 8 x 8 = 64\t 9 x 8 = 72\t 2 x 9 = 18\t 3 x 9 = 27\t 4 x 9 = 36\t 5 x 9 = 45\t 6 x 9 = 54\t 7 x 9 = 63\t 8 x 9 = 72\t 9 x 9 = 81\t"
     ]
    }
   ],
   "source": [
    "k = 1\n",
    "i = 1\n",
    "j = 1\n",
    "for k in range(2,10,1):\n",
    "    print(\"Cửu chương\",k,end=\"\\t\")\n",
    "for i in range(2,10,1):\n",
    "    for j in range(2,10,1):\n",
    "        print(\" {} x {} = {}\".format(j,i,i*j),end=\"\\t\")"
   ]
  },
  {
   "cell_type": "code",
   "execution_count": null,
   "id": "28573376",
   "metadata": {},
   "outputs": [],
   "source": []
  }
 ],
 "metadata": {
  "kernelspec": {
   "display_name": "Python 3 (ipykernel)",
   "language": "python",
   "name": "python3"
  },
  "language_info": {
   "codemirror_mode": {
    "name": "ipython",
    "version": 3
   },
   "file_extension": ".py",
   "mimetype": "text/x-python",
   "name": "python",
   "nbconvert_exporter": "python",
   "pygments_lexer": "ipython3",
   "version": "3.10.6"
  }
 },
 "nbformat": 4,
 "nbformat_minor": 5
}
