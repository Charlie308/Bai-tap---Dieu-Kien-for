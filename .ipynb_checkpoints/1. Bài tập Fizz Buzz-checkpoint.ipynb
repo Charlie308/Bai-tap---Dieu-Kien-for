{
 "cells": [
  {
   "cell_type": "code",
   "execution_count": null,
   "id": "3c89ba1f",
   "metadata": {
    "scrolled": true
   },
   "outputs": [],
   "source": [
    "a = int(input(\"Nhập vào số a: \"))\n",
    "while a%1 != 0 or a <= 0:\n",
    "    a = int(input(\"Nhập vào số a: \"))\n",
    "b = int(input(\"Nhập vào số b: \"))\n",
    "while b%1 != 0 or b <= 0:\n",
    "    b = int(input(\"Nhập vào số b: \"))\n",
    "if a < b:\n",
    "    x = a\n",
    "    for x in range(a,b+1,1):\n",
    "        if x%3 == 0 and x%5 == 0:\n",
    "            print(\"FizzBuzz\")\n",
    "        elif x%3 == 0:\n",
    "            print(\"Fizz\")\n",
    "        elif x%5 == 0:\n",
    "            print(\"Buzz\")\n",
    "        \n",
    "else:\n",
    "    x = b\n",
    "    for x in range(b,a+1,1):\n",
    "        if x%3 == 0 and x%5 == 0:\n",
    "            print(\"FizzBuzz\")\n",
    "        elif x%3 == 0:\n",
    "            print(\"Fizz\")\n",
    "        elif x%5 == 0:\n",
    "            print(\"Buzz\")"
   ]
  },
  {
   "cell_type": "code",
   "execution_count": null,
   "id": "21394a45",
   "metadata": {},
   "outputs": [],
   "source": []
  }
 ],
 "metadata": {
  "kernelspec": {
   "display_name": "Python 3 (ipykernel)",
   "language": "python",
   "name": "python3"
  },
  "language_info": {
   "codemirror_mode": {
    "name": "ipython",
    "version": 3
   },
   "file_extension": ".py",
   "mimetype": "text/x-python",
   "name": "python",
   "nbconvert_exporter": "python",
   "pygments_lexer": "ipython3",
   "version": "3.10.6"
  }
 },
 "nbformat": 4,
 "nbformat_minor": 5
}
